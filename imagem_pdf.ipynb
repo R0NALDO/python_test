{
  "cells": [
    {
      "cell_type": "markdown",
      "metadata": {
        "id": "view-in-github",
        "colab_type": "text"
      },
      "source": [
        "<a href=\"https://colab.research.google.com/github/R0NALDO/python_test/blob/main/imagem_pdf.ipynb\" target=\"_parent\"><img src=\"https://colab.research.google.com/assets/colab-badge.svg\" alt=\"Open In Colab\"/></a>"
      ]
    },
    {
      "cell_type": "markdown",
      "metadata": {
        "id": "PeS3c-UEM9f7"
      },
      "source": [
        "# Extrair Imagem de um pdf\n",
        "    - biblioteca pikepdf"
      ]
    },
    {
      "cell_type": "code",
      "execution_count": null,
      "metadata": {
        "scrolled": true,
        "id": "tYG6Sc9yM9gC"
      },
      "outputs": [],
      "source": [
        "from pikepdf import Pdf, PdfImage\n",
        "\n",
        "arquivo = Pdf.open(\"ResultadoVale.pdf\") #https://youtu.be/QndvPDgbKjc?t=70\n",
        "\n",
        "for pagina in arquivo.pages:\n",
        "    for nome, imagem in pagina.images.items():\n",
        "        imagem_salvar = PdfImage(imagem)\n",
        "        imagem_salvar.extract_to(fileprefix=f\"imagens/{nome}\")"
      ]
    },
    {
      "cell_type": "code",
      "execution_count": null,
      "metadata": {
        "id": "qjCowcdtM9gF"
      },
      "outputs": [],
      "source": []
    }
  ],
  "metadata": {
    "kernelspec": {
      "display_name": "Python 3 (ipykernel)",
      "language": "python",
      "name": "python3"
    },
    "language_info": {
      "codemirror_mode": {
        "name": "ipython",
        "version": 3
      },
      "file_extension": ".py",
      "mimetype": "text/x-python",
      "name": "python",
      "nbconvert_exporter": "python",
      "pygments_lexer": "ipython3",
      "version": "3.10.9"
    },
    "colab": {
      "provenance": [],
      "include_colab_link": true
    }
  },
  "nbformat": 4,
  "nbformat_minor": 0
}